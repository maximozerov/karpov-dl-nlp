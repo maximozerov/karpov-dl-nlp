{
 "cells": [
  {
   "cell_type": "markdown",
   "metadata": {},
   "source": [
    "# Домашнее задание 2\n",
    "\n",
    "В этом задании:\n",
    "\n",
    "1. Сделаем регрессию над данными через scikit-learn: сначала через регресию, потом через бустинг.\n",
    "2. Сравним результаты с константным предсказанием.\n",
    "3. Сделаем нейронную сеть на полносвязных слоях, обучим над теми же данными - и сравним с лин. регрессией и бустингом.\n",
    "\n"
   ]
  },
  {
   "cell_type": "code",
   "execution_count": 34,
   "metadata": {},
   "outputs": [],
   "source": [
    "import pandas as pd\n",
    "import numpy as np\n",
    "import random\n",
    "\n",
    "# Для воспроизводимости\n",
    "seed = 0\n",
    "np.random.seed(seed)\n",
    "random.seed(seed)"
   ]
  },
  {
   "cell_type": "code",
   "execution_count": 35,
   "metadata": {},
   "outputs": [],
   "source": [
    "df = pd.read_csv(\"insurance.csv\")"
   ]
  },
  {
   "cell_type": "markdown",
   "metadata": {},
   "source": [
    "### Задание №1:\n",
    "Cделайте train/test split на данных в пропорции 0.2/0.8, залейте в лмс код, который в `df_train`, `df_test`\n",
    "сохранит датафрейм с тренировочными и тестовыми данными соответственно.\n",
    "\n",
    "P.S Использовать train_test_split из scikit-learn запрещено - разбивайте вручную через индексы."
   ]
  },
  {
   "cell_type": "code",
   "execution_count": 3,
   "metadata": {},
   "outputs": [
    {
     "data": {
      "text/html": [
       "<div>\n",
       "<style scoped>\n",
       "    .dataframe tbody tr th:only-of-type {\n",
       "        vertical-align: middle;\n",
       "    }\n",
       "\n",
       "    .dataframe tbody tr th {\n",
       "        vertical-align: top;\n",
       "    }\n",
       "\n",
       "    .dataframe thead th {\n",
       "        text-align: right;\n",
       "    }\n",
       "</style>\n",
       "<table border=\"1\" class=\"dataframe\">\n",
       "  <thead>\n",
       "    <tr style=\"text-align: right;\">\n",
       "      <th></th>\n",
       "      <th>age</th>\n",
       "      <th>sex</th>\n",
       "      <th>bmi</th>\n",
       "      <th>children</th>\n",
       "      <th>smoker</th>\n",
       "      <th>region</th>\n",
       "      <th>charges</th>\n",
       "    </tr>\n",
       "  </thead>\n",
       "  <tbody>\n",
       "    <tr>\n",
       "      <th>0</th>\n",
       "      <td>19</td>\n",
       "      <td>female</td>\n",
       "      <td>27.900</td>\n",
       "      <td>0</td>\n",
       "      <td>yes</td>\n",
       "      <td>southwest</td>\n",
       "      <td>16884.92400</td>\n",
       "    </tr>\n",
       "    <tr>\n",
       "      <th>1</th>\n",
       "      <td>18</td>\n",
       "      <td>male</td>\n",
       "      <td>33.770</td>\n",
       "      <td>1</td>\n",
       "      <td>no</td>\n",
       "      <td>southeast</td>\n",
       "      <td>1725.55230</td>\n",
       "    </tr>\n",
       "    <tr>\n",
       "      <th>2</th>\n",
       "      <td>28</td>\n",
       "      <td>male</td>\n",
       "      <td>33.000</td>\n",
       "      <td>3</td>\n",
       "      <td>no</td>\n",
       "      <td>southeast</td>\n",
       "      <td>4449.46200</td>\n",
       "    </tr>\n",
       "    <tr>\n",
       "      <th>3</th>\n",
       "      <td>33</td>\n",
       "      <td>male</td>\n",
       "      <td>22.705</td>\n",
       "      <td>0</td>\n",
       "      <td>no</td>\n",
       "      <td>northwest</td>\n",
       "      <td>21984.47061</td>\n",
       "    </tr>\n",
       "    <tr>\n",
       "      <th>4</th>\n",
       "      <td>32</td>\n",
       "      <td>male</td>\n",
       "      <td>28.880</td>\n",
       "      <td>0</td>\n",
       "      <td>no</td>\n",
       "      <td>northwest</td>\n",
       "      <td>3866.85520</td>\n",
       "    </tr>\n",
       "  </tbody>\n",
       "</table>\n",
       "</div>"
      ],
      "text/plain": [
       "   age     sex     bmi  children smoker     region      charges\n",
       "0   19  female  27.900         0    yes  southwest  16884.92400\n",
       "1   18    male  33.770         1     no  southeast   1725.55230\n",
       "2   28    male  33.000         3     no  southeast   4449.46200\n",
       "3   33    male  22.705         0     no  northwest  21984.47061\n",
       "4   32    male  28.880         0     no  northwest   3866.85520"
      ]
     },
     "execution_count": 3,
     "metadata": {},
     "output_type": "execute_result"
    }
   ],
   "source": [
    "df.head()"
   ]
  },
  {
   "cell_type": "code",
   "execution_count": 4,
   "metadata": {},
   "outputs": [
    {
     "data": {
      "text/plain": [
       "1070"
      ]
     },
     "execution_count": 4,
     "metadata": {},
     "output_type": "execute_result"
    }
   ],
   "source": [
    "int(df.shape[0] * 0.8)"
   ]
  },
  {
   "cell_type": "code",
   "execution_count": 36,
   "metadata": {},
   "outputs": [],
   "source": [
    "idx_test = np.random.choice(df.shape[0], size=int(0.2 * df.shape[0]), replace=False)\n",
    "df_test = df.iloc[idx_test]\n",
    "df_train = df.drop(index=idx_test)"
   ]
  },
  {
   "cell_type": "markdown",
   "metadata": {},
   "source": [
    "### Задание №2:\n",
    "Сделайте `OHE` на колонки sex, region, smoker.\n",
    "\n",
    "Нужно сделать как на train, так и на test датасете.\n",
    "Считайте, что исходные датафреймы сохранены в `df_train` и `df_test`.\n",
    "При этом в `df_train`, `df_test` должны остаться старые колонки - т.е. его нужно обогатить.\n"
   ]
  },
  {
   "cell_type": "code",
   "execution_count": 37,
   "metadata": {},
   "outputs": [
    {
     "data": {
      "text/plain": [
       "sex\n",
       "female    543\n",
       "male      528\n",
       "Name: count, dtype: int64"
      ]
     },
     "execution_count": 37,
     "metadata": {},
     "output_type": "execute_result"
    }
   ],
   "source": [
    "df_train['sex'].value_counts()"
   ]
  },
  {
   "cell_type": "code",
   "execution_count": 38,
   "metadata": {},
   "outputs": [
    {
     "data": {
      "text/plain": [
       "region\n",
       "southeast    294\n",
       "southwest    273\n",
       "northwest    254\n",
       "northeast    250\n",
       "Name: count, dtype: int64"
      ]
     },
     "execution_count": 38,
     "metadata": {},
     "output_type": "execute_result"
    }
   ],
   "source": [
    "df_train['region'].value_counts()"
   ]
  },
  {
   "cell_type": "code",
   "execution_count": 39,
   "metadata": {},
   "outputs": [
    {
     "data": {
      "text/plain": [
       "smoker\n",
       "no     852\n",
       "yes    219\n",
       "Name: count, dtype: int64"
      ]
     },
     "execution_count": 39,
     "metadata": {},
     "output_type": "execute_result"
    }
   ],
   "source": [
    "df_train['smoker'].value_counts()"
   ]
  },
  {
   "cell_type": "code",
   "execution_count": 40,
   "metadata": {},
   "outputs": [],
   "source": [
    "df_train = pd.get_dummies(df_train, columns=['sex', 'smoker', 'region'], drop_first=False)\n",
    "df_test = pd.get_dummies(df_test, columns=['sex', 'smoker', 'region'], drop_first=False)"
   ]
  },
  {
   "cell_type": "code",
   "execution_count": 41,
   "metadata": {},
   "outputs": [
    {
     "name": "stdout",
     "output_type": "stream",
     "text": [
      "Index(['age', 'bmi', 'children', 'charges', 'sex_female', 'sex_male',\n",
      "       'smoker_no', 'smoker_yes', 'region_northeast', 'region_northwest',\n",
      "       'region_southeast', 'region_southwest'],\n",
      "      dtype='object')\n",
      "Index(['age', 'bmi', 'children', 'charges', 'sex_female', 'sex_male',\n",
      "       'smoker_no', 'smoker_yes', 'region_northeast', 'region_northwest',\n",
      "       'region_southeast', 'region_southwest'],\n",
      "      dtype='object')\n"
     ]
    }
   ],
   "source": [
    "print(df_train.columns)\n",
    "print(df_test.columns)"
   ]
  },
  {
   "cell_type": "code",
   "execution_count": null,
   "metadata": {},
   "outputs": [],
   "source": []
  },
  {
   "cell_type": "markdown",
   "metadata": {},
   "source": [
    "### Задание №4:\n",
    "Нормализуйте колонки, которые вы отметили в квизе.\n",
    "Считайте, что исходные датафреймы сохранены в `df_train` и `df_test`.\n",
    "\n",
    "Сдайте код, который модифицирует `df_train` и `df_test` так, чтобы численные колонки из прошлого пункта стали нормированы."
   ]
  },
  {
   "cell_type": "code",
   "execution_count": 42,
   "metadata": {},
   "outputs": [
    {
     "data": {
      "text/html": [
       "<div>\n",
       "<style scoped>\n",
       "    .dataframe tbody tr th:only-of-type {\n",
       "        vertical-align: middle;\n",
       "    }\n",
       "\n",
       "    .dataframe tbody tr th {\n",
       "        vertical-align: top;\n",
       "    }\n",
       "\n",
       "    .dataframe thead th {\n",
       "        text-align: right;\n",
       "    }\n",
       "</style>\n",
       "<table border=\"1\" class=\"dataframe\">\n",
       "  <thead>\n",
       "    <tr style=\"text-align: right;\">\n",
       "      <th></th>\n",
       "      <th>age</th>\n",
       "      <th>bmi</th>\n",
       "      <th>children</th>\n",
       "      <th>charges</th>\n",
       "      <th>sex_female</th>\n",
       "      <th>sex_male</th>\n",
       "      <th>smoker_no</th>\n",
       "      <th>smoker_yes</th>\n",
       "      <th>region_northeast</th>\n",
       "      <th>region_northwest</th>\n",
       "      <th>region_southeast</th>\n",
       "      <th>region_southwest</th>\n",
       "    </tr>\n",
       "  </thead>\n",
       "  <tbody>\n",
       "    <tr>\n",
       "      <th>0</th>\n",
       "      <td>19</td>\n",
       "      <td>27.900</td>\n",
       "      <td>0</td>\n",
       "      <td>16884.92400</td>\n",
       "      <td>True</td>\n",
       "      <td>False</td>\n",
       "      <td>False</td>\n",
       "      <td>True</td>\n",
       "      <td>False</td>\n",
       "      <td>False</td>\n",
       "      <td>False</td>\n",
       "      <td>True</td>\n",
       "    </tr>\n",
       "    <tr>\n",
       "      <th>2</th>\n",
       "      <td>28</td>\n",
       "      <td>33.000</td>\n",
       "      <td>3</td>\n",
       "      <td>4449.46200</td>\n",
       "      <td>False</td>\n",
       "      <td>True</td>\n",
       "      <td>True</td>\n",
       "      <td>False</td>\n",
       "      <td>False</td>\n",
       "      <td>False</td>\n",
       "      <td>True</td>\n",
       "      <td>False</td>\n",
       "    </tr>\n",
       "    <tr>\n",
       "      <th>3</th>\n",
       "      <td>33</td>\n",
       "      <td>22.705</td>\n",
       "      <td>0</td>\n",
       "      <td>21984.47061</td>\n",
       "      <td>False</td>\n",
       "      <td>True</td>\n",
       "      <td>True</td>\n",
       "      <td>False</td>\n",
       "      <td>False</td>\n",
       "      <td>True</td>\n",
       "      <td>False</td>\n",
       "      <td>False</td>\n",
       "    </tr>\n",
       "    <tr>\n",
       "      <th>4</th>\n",
       "      <td>32</td>\n",
       "      <td>28.880</td>\n",
       "      <td>0</td>\n",
       "      <td>3866.85520</td>\n",
       "      <td>False</td>\n",
       "      <td>True</td>\n",
       "      <td>True</td>\n",
       "      <td>False</td>\n",
       "      <td>False</td>\n",
       "      <td>True</td>\n",
       "      <td>False</td>\n",
       "      <td>False</td>\n",
       "    </tr>\n",
       "    <tr>\n",
       "      <th>6</th>\n",
       "      <td>46</td>\n",
       "      <td>33.440</td>\n",
       "      <td>1</td>\n",
       "      <td>8240.58960</td>\n",
       "      <td>True</td>\n",
       "      <td>False</td>\n",
       "      <td>True</td>\n",
       "      <td>False</td>\n",
       "      <td>False</td>\n",
       "      <td>False</td>\n",
       "      <td>True</td>\n",
       "      <td>False</td>\n",
       "    </tr>\n",
       "  </tbody>\n",
       "</table>\n",
       "</div>"
      ],
      "text/plain": [
       "   age     bmi  children      charges  sex_female  sex_male  smoker_no  \\\n",
       "0   19  27.900         0  16884.92400        True     False      False   \n",
       "2   28  33.000         3   4449.46200       False      True       True   \n",
       "3   33  22.705         0  21984.47061       False      True       True   \n",
       "4   32  28.880         0   3866.85520       False      True       True   \n",
       "6   46  33.440         1   8240.58960        True     False       True   \n",
       "\n",
       "   smoker_yes  region_northeast  region_northwest  region_southeast  \\\n",
       "0        True             False             False             False   \n",
       "2       False             False             False              True   \n",
       "3       False             False              True             False   \n",
       "4       False             False              True             False   \n",
       "6       False             False             False              True   \n",
       "\n",
       "   region_southwest  \n",
       "0              True  \n",
       "2             False  \n",
       "3             False  \n",
       "4             False  \n",
       "6             False  "
      ]
     },
     "execution_count": 42,
     "metadata": {},
     "output_type": "execute_result"
    }
   ],
   "source": [
    "df_train.head()"
   ]
  },
  {
   "cell_type": "code",
   "execution_count": 43,
   "metadata": {},
   "outputs": [],
   "source": [
    "# charges, bmi, age\n",
    "\n",
    "for col in ['charges', 'bmi', 'age']:\n",
    "    mean_value = df_train[col].mean()\n",
    "    std_value = df_train[col].std()\n",
    "\n",
    "    df_train[col] = (df_train[col] - mean_value)/std_value\n",
    "    df_test[col] = (df_test[col] - mean_value)/std_value\n"
   ]
  },
  {
   "cell_type": "code",
   "execution_count": 44,
   "metadata": {},
   "outputs": [],
   "source": [
    "y_train = df_train.pop(\"charges\")\n",
    "y_test = df_test.pop(\"charges\")"
   ]
  },
  {
   "cell_type": "markdown",
   "metadata": {},
   "source": [
    "### Задание №5\n",
    "Реализуйте функцию, считающую `MSE` метрику.\n",
    "\n",
    "Ваша функция должна уметь принимать torch.Tensor, numpy-массивы и pd.Series."
   ]
  },
  {
   "cell_type": "code",
   "execution_count": 45,
   "metadata": {},
   "outputs": [],
   "source": [
    "def metric(preds, y):\n",
    "    return ((y - preds) ** 2).mean()"
   ]
  },
  {
   "cell_type": "code",
   "execution_count": 46,
   "metadata": {},
   "outputs": [],
   "source": [
    "preds = np.array([0.21, 0.55, 0.95, 0.99, 0.45])\n",
    "y = np.array([0.31, 0.04, 0.51, 0.24, 0.91])\n",
    "\n",
    "assert metric(preds, y) == 0.24756"
   ]
  },
  {
   "cell_type": "markdown",
   "metadata": {},
   "source": [
    "### Задание №6\n",
    "Реализуйте бейзлайн на `LinearRegression` и `GradientBoostingRegressor`, отправьте метрики в ЛМС.\n",
    "\n",
    "Используйте гиперпараметры по-умолчанию в обоих моделях."
   ]
  },
  {
   "cell_type": "code",
   "execution_count": 47,
   "metadata": {},
   "outputs": [
    {
     "name": "stdout",
     "output_type": "stream",
     "text": [
      "GBR MSE: 0.12\n",
      "LR MSE: 0.22\n"
     ]
    }
   ],
   "source": [
    "from sklearn.ensemble import GradientBoostingRegressor\n",
    "from sklearn.linear_model import LinearRegression\n",
    "\n",
    "gbr = GradientBoostingRegressor()\n",
    "lr = LinearRegression()\n",
    "\n",
    "gbr.fit(df_train, y_train)\n",
    "lr.fit(df_train, y_train)\n",
    "\n",
    "gbr_metric = metric(gbr.predict(df_test), y_test)\n",
    "lr_metric = metric(lr.predict(df_test), y_test)\n",
    "\n",
    "print(f\"GBR MSE: {gbr_metric:.2f}\\nLR MSE: {lr_metric:.2f}\")"
   ]
  },
  {
   "cell_type": "code",
   "execution_count": 48,
   "metadata": {},
   "outputs": [
    {
     "name": "stdout",
     "output_type": "stream",
     "text": [
      "LinearRegression() 0.2228159571271519\n",
      "GradientBoostingRegressor() 0.114906605210456\n"
     ]
    }
   ],
   "source": [
    "# shorter alternative\n",
    "for model in (LinearRegression(), GradientBoostingRegressor()):\n",
    "    model.fit(df_train, y_train)\n",
    "    preds = model.predict(df_test)\n",
    "    score = metric(preds, y_test)\n",
    "    print(model, score)"
   ]
  },
  {
   "cell_type": "markdown",
   "metadata": {},
   "source": [
    "### Задание №7\n",
    "Вычислите среднее значение целевой переменной на тренировочной выборке (train).\n",
    "\n",
    "Подсчитайте MSE при константном предсказании этим средним и отправьте его в ЛМС."
   ]
  },
  {
   "cell_type": "code",
   "execution_count": 49,
   "metadata": {},
   "outputs": [
    {
     "data": {
      "text/plain": [
       "(267,)"
      ]
     },
     "execution_count": 49,
     "metadata": {},
     "output_type": "execute_result"
    }
   ],
   "source": [
    "np.repeat(y_train.mean(), len(y_test)).shape"
   ]
  },
  {
   "cell_type": "code",
   "execution_count": 50,
   "metadata": {},
   "outputs": [
    {
     "data": {
      "text/plain": [
       "(267,)"
      ]
     },
     "execution_count": 50,
     "metadata": {},
     "output_type": "execute_result"
    }
   ],
   "source": [
    "y_test.shape"
   ]
  },
  {
   "cell_type": "code",
   "execution_count": 51,
   "metadata": {},
   "outputs": [
    {
     "data": {
      "text/plain": [
       "1.1145089956822458"
      ]
     },
     "execution_count": 51,
     "metadata": {},
     "output_type": "execute_result"
    }
   ],
   "source": [
    "metric(np.repeat(y_train.mean(), len(y_test)), y_test)"
   ]
  },
  {
   "cell_type": "markdown",
   "metadata": {},
   "source": [
    "### Задание №8\n",
    "Создайте сеть, состоящую из одного слоя Linear, залейте в лмс код, который в `model` запишет вашу модель\n",
    "\n",
    "В качестве признаков используйте все колонки в текущем датасете, за исключением таргета"
   ]
  },
  {
   "cell_type": "code",
   "execution_count": 52,
   "metadata": {},
   "outputs": [
    {
     "data": {
      "text/plain": [
       "11"
      ]
     },
     "execution_count": 52,
     "metadata": {},
     "output_type": "execute_result"
    }
   ],
   "source": [
    "df_train.shape[1]"
   ]
  },
  {
   "cell_type": "code",
   "execution_count": 53,
   "metadata": {},
   "outputs": [],
   "source": [
    "import torch.nn as nn\n",
    "\n",
    "\n",
    "def build_model():\n",
    "    model = nn.Linear(in_features=11, out_features=1)\n",
    "    return model    \n",
    "\n",
    "model = build_model()"
   ]
  },
  {
   "cell_type": "code",
   "execution_count": 54,
   "metadata": {},
   "outputs": [],
   "source": [
    "import torch\n",
    "\n",
    "torch.random.manual_seed(seed)\n",
    "t_x_train = torch.from_numpy(df_train.to_numpy().astype(float)).to(dtype=torch.float32)\n",
    "t_y_train = torch.from_numpy(y_train.to_numpy()).to(dtype=torch.float32)"
   ]
  },
  {
   "cell_type": "markdown",
   "metadata": {},
   "source": [
    "### Задание №9\n",
    "Напишите функцию `train_loop`, которая будет учить модель по данным на 2к итераций.\n",
    "Считайте, что данные уже хранятся в переменных `t_x_train`, `t_y_train`.\n",
    "Ваша функция `train_loop` должна вернуть список из лоссов на каждой итерации (т.е. список длины 2000).\n",
    "\n",
    "Используйте `learning_rate=1e-2` в оптимизаторе.\n",
    "\n",
    "Для простоты за одну итерацию делайте проход вперед и проход назад на всех наших обучающих данных.\n",
    "Это будет полный градиентный спуск (не по батчам) - можем себе позволить, данных немного.\n",
    "\n",
    "_Подсказка 1_: Вам не обязательно учить модель на видеокарте, CPU будет достаточно.\n",
    "\n",
    "_Подсказка 2_: `tqdm` - это библиотека, которая рисует прогресс итераций"
   ]
  },
  {
   "cell_type": "code",
   "execution_count": 55,
   "metadata": {},
   "outputs": [
    {
     "name": "stderr",
     "output_type": "stream",
     "text": [
      "100%|████████████████████████████████████| 2000/2000 [00:00<00:00, 14029.27it/s]\n"
     ]
    }
   ],
   "source": [
    "import tqdm\n",
    "from torch.optim.sgd import SGD\n",
    "\n",
    "\n",
    "def train_loop(model: nn.Module) -> list[float]:\n",
    "    losses = []\n",
    "    optim = SGD(model.parameters(), lr=1e-2)\n",
    "    criterion = nn.MSELoss()\n",
    "    for _ in tqdm.trange(2000):\n",
    "        optim.zero_grad()\n",
    "        out = model(t_x_train)[:, 0]\n",
    "        loss = criterion(out, t_y_train)\n",
    "        loss.backward()\n",
    "        losses.append(loss.item())\n",
    "        optim.step()\n",
    "\n",
    "    return losses\n",
    "\n",
    "model = build_model()\n",
    "losses = train_loop(model)"
   ]
  },
  {
   "cell_type": "code",
   "execution_count": 56,
   "metadata": {},
   "outputs": [
    {
     "data": {
      "text/plain": [
       "2000"
      ]
     },
     "execution_count": 56,
     "metadata": {},
     "output_type": "execute_result"
    }
   ],
   "source": [
    "len(losses)"
   ]
  },
  {
   "cell_type": "markdown",
   "metadata": {},
   "source": [
    "### Задание №10\n",
    "Обучите модель, состоящую из одного слоя `Linear`.\n",
    "Приложите в ЛМС метрику `MSE` на тестовых данных.\n",
    "Используйте `learning_rate=1e-2` в оптимизаторе.\n",
    "\n",
    "Когда будете тестировать, не забудьте перенести тестовые данные в `torch.Tensor`"
   ]
  },
  {
   "cell_type": "code",
   "execution_count": 57,
   "metadata": {},
   "outputs": [
    {
     "name": "stderr",
     "output_type": "stream",
     "text": [
      "100%|████████████████████████████████████| 2000/2000 [00:00<00:00, 14083.61it/s]\n"
     ]
    },
    {
     "data": {
      "text/plain": [
       "tensor(0.2228)"
      ]
     },
     "execution_count": 57,
     "metadata": {},
     "output_type": "execute_result"
    }
   ],
   "source": [
    "t_x_test = torch.from_numpy(df_test.to_numpy().astype(float)).to(dtype=torch.float32)\n",
    "t_y_test = torch.from_numpy(y_test.to_numpy()).to(dtype=torch.float32)\n",
    "\n",
    "model = build_model()\n",
    "train_loop(model)\n",
    "with torch.no_grad():\n",
    "    y_pred = model(t_x_test)[:, 0]\n",
    "metric(y_pred, t_y_test)"
   ]
  },
  {
   "cell_type": "code",
   "execution_count": 58,
   "metadata": {},
   "outputs": [
    {
     "data": {
      "text/plain": [
       "tensor(0.2228)"
      ]
     },
     "execution_count": 58,
     "metadata": {},
     "output_type": "execute_result"
    }
   ],
   "source": [
    "nn.MSELoss()(y_pred, t_y_test)"
   ]
  },
  {
   "cell_type": "code",
   "execution_count": null,
   "metadata": {},
   "outputs": [],
   "source": []
  },
  {
   "cell_type": "markdown",
   "metadata": {},
   "source": [
    "### Задание №11\n",
    "Вам необходимо усложнить существующую нейронную сеть, добавив один скрытый слой. \n",
    "\n",
    "Используйте следующие параметры: \n",
    "\n",
    "Размерность скрытого слоя: 6 нейронов, функция активации -  `ReLU`\n",
    "\n",
    "Приложите в лмс код, который в переменную `model` запишет вашу модель"
   ]
  },
  {
   "cell_type": "code",
   "execution_count": 61,
   "metadata": {},
   "outputs": [],
   "source": [
    "import torch.nn as nn\n",
    "\n",
    "def build_model():\n",
    "    model = nn.Sequential()\n",
    "    model.append(nn.Linear(11, 6))\n",
    "    model.append(nn.ReLU())\n",
    "    model.append(nn.Linear(6, 1))\n",
    "    return model\n",
    "\n",
    "\n",
    "model = build_model()"
   ]
  },
  {
   "cell_type": "code",
   "execution_count": 62,
   "metadata": {},
   "outputs": [
    {
     "data": {
      "text/plain": [
       "Sequential(\n",
       "  (0): Linear(in_features=11, out_features=6, bias=True)\n",
       "  (1): ReLU()\n",
       "  (2): Linear(in_features=6, out_features=1, bias=True)\n",
       ")"
      ]
     },
     "execution_count": 62,
     "metadata": {},
     "output_type": "execute_result"
    }
   ],
   "source": [
    "model"
   ]
  },
  {
   "cell_type": "markdown",
   "metadata": {},
   "source": [
    "### Задание №12\n",
    "Приложите в ЛМС метрику качества этой сети после 2к итераций обучения.\n",
    "Эту модель можно обучить на CPU, не обязательно на видеокарте.\n",
    "\n",
    "Используйте для обучения ту же функцию `train_loop` с теми же параметрами (`learning rate`, число итераций и т.п.)"
   ]
  },
  {
   "cell_type": "code",
   "execution_count": 63,
   "metadata": {},
   "outputs": [
    {
     "name": "stderr",
     "output_type": "stream",
     "text": [
      "100%|█████████████████████████████████████| 2000/2000 [00:00<00:00, 8402.83it/s]\n"
     ]
    },
    {
     "data": {
      "text/plain": [
       "tensor(0.1380)"
      ]
     },
     "execution_count": 63,
     "metadata": {},
     "output_type": "execute_result"
    }
   ],
   "source": [
    "t_x_test = torch.from_numpy(df_test.to_numpy().astype(float)).to(dtype=torch.float32)\n",
    "t_y_test = torch.from_numpy(y_test.to_numpy()).to(dtype=torch.float32)\n",
    "\n",
    "model = build_model()\n",
    "train_loop(model)\n",
    "with torch.no_grad():\n",
    "    y_pred = model(t_x_test)[:, 0]\n",
    "metric(y_pred, t_y_test)"
   ]
  },
  {
   "cell_type": "markdown",
   "metadata": {},
   "source": [
    "### Задание №13\n",
    "Добавьте дополнительные слои в нейронную сеть\n",
    "\n",
    "Вам необходимо усложнить нейронную сеть, добавив еще 2-3 скрытых слоя с такими же размерностями, как в предыдущем задании.\n",
    "\n",
    "Приложите в лмс код, который в переменную `model` запишет вашу модель"
   ]
  },
  {
   "cell_type": "code",
   "execution_count": 66,
   "metadata": {},
   "outputs": [],
   "source": [
    "import torch.nn as nn\n",
    "\n",
    "def build_model():\n",
    "    model = nn.Sequential()\n",
    "    model.append(nn.Linear(11, 6))\n",
    "    model.append(nn.ReLU())\n",
    "    model.append(nn.Linear(6, 6))\n",
    "    model.append(nn.ReLU())\n",
    "    model.append(nn.Linear(6, 1))\n",
    "    return model\n",
    "\n",
    "model = build_model()"
   ]
  },
  {
   "cell_type": "markdown",
   "metadata": {},
   "source": [
    "### Задание №14\n",
    "Приложите в ЛМС метрику качества после 2к итераций обучения.\n",
    "\n",
    "Используйте для обучения ту же функцию `train_loop` с теми же параметрами (`learning rate`, число итераций и т.п.)\n",
    "\n",
    "Эту модель можно обучить на CPU, не обязательно на видеокарте."
   ]
  },
  {
   "cell_type": "code",
   "execution_count": 67,
   "metadata": {},
   "outputs": [
    {
     "name": "stderr",
     "output_type": "stream",
     "text": [
      "100%|█████████████████████████████████████| 2000/2000 [00:00<00:00, 6712.26it/s]\n"
     ]
    },
    {
     "data": {
      "text/plain": [
       "tensor(0.1344)"
      ]
     },
     "execution_count": 67,
     "metadata": {},
     "output_type": "execute_result"
    }
   ],
   "source": [
    "t_x_test = torch.from_numpy(df_test.to_numpy().astype(float)).to(dtype=torch.float32)\n",
    "t_y_test = torch.from_numpy(y_test.to_numpy()).to(dtype=torch.float32)\n",
    "\n",
    "model = build_model()\n",
    "train_loop(model)\n",
    "with torch.no_grad():\n",
    "    y_pred = model(t_x_test)[:, 0]\n",
    "metric(y_pred, t_y_test)"
   ]
  },
  {
   "cell_type": "code",
   "execution_count": 18,
   "metadata": {},
   "outputs": [],
   "source": []
  }
 ],
 "metadata": {
  "kernelspec": {
   "display_name": "Python 3 (ipykernel)",
   "language": "python",
   "name": "python3"
  },
  "language_info": {
   "codemirror_mode": {
    "name": "ipython",
    "version": 3
   },
   "file_extension": ".py",
   "mimetype": "text/x-python",
   "name": "python",
   "nbconvert_exporter": "python",
   "pygments_lexer": "ipython3",
   "version": "3.10.16"
  }
 },
 "nbformat": 4,
 "nbformat_minor": 4
}
